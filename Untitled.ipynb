{
 "cells": [
  {
   "cell_type": "markdown",
   "metadata": {},
   "source": [
    "# PREPARATION"
   ]
  },
  {
   "cell_type": "code",
   "execution_count": 1,
   "metadata": {
    "collapsed": true
   },
   "outputs": [],
   "source": [
    "import pandas as pd\n",
    "import numpy as np\n",
    "import matplotlib.pyplot as plt\n",
    "from imblearn.under_sampling import RandomUnderSampler\n",
    "from imblearn.over_sampling import SMOTE\n",
    "%matplotlib inline"
   ]
  },
  {
   "cell_type": "code",
   "execution_count": 2,
   "metadata": {
    "collapsed": true
   },
   "outputs": [],
   "source": [
    "df = pd.read_excel('data tugas pemodelan klasifikasi genap 2017 2018 (untuk mahasiswa) (1).xlsx')"
   ]
  },
  {
   "cell_type": "code",
   "execution_count": 3,
   "metadata": {
    "scrolled": true
   },
   "outputs": [
    {
     "data": {
      "text/html": [
       "<div>\n",
       "<style>\n",
       "    .dataframe thead tr:only-child th {\n",
       "        text-align: right;\n",
       "    }\n",
       "\n",
       "    .dataframe thead th {\n",
       "        text-align: left;\n",
       "    }\n",
       "\n",
       "    .dataframe tbody tr th {\n",
       "        vertical-align: top;\n",
       "    }\n",
       "</style>\n",
       "<table border=\"1\" class=\"dataframe\">\n",
       "  <thead>\n",
       "    <tr style=\"text-align: right;\">\n",
       "      <th></th>\n",
       "      <th>ID</th>\n",
       "      <th>X1</th>\n",
       "      <th>X2</th>\n",
       "      <th>X3</th>\n",
       "      <th>X4</th>\n",
       "      <th>X5</th>\n",
       "      <th>X6</th>\n",
       "      <th>X7</th>\n",
       "      <th>X8</th>\n",
       "      <th>X9</th>\n",
       "      <th>X10</th>\n",
       "      <th>X11</th>\n",
       "      <th>X12</th>\n",
       "    </tr>\n",
       "  </thead>\n",
       "  <tbody>\n",
       "    <tr>\n",
       "      <th>count</th>\n",
       "      <td>70000.000000</td>\n",
       "      <td>70000.000000</td>\n",
       "      <td>70000.000000</td>\n",
       "      <td>70000.000000</td>\n",
       "      <td>70000.000000</td>\n",
       "      <td>70000.000000</td>\n",
       "      <td>70000.000000</td>\n",
       "      <td>70000.000000</td>\n",
       "      <td>70000.000000</td>\n",
       "      <td>70000.000000</td>\n",
       "      <td>70000.000000</td>\n",
       "      <td>70000.000000</td>\n",
       "      <td>50000.00000</td>\n",
       "    </tr>\n",
       "    <tr>\n",
       "      <th>mean</th>\n",
       "      <td>35000.500000</td>\n",
       "      <td>110.687600</td>\n",
       "      <td>27789.886000</td>\n",
       "      <td>40.142529</td>\n",
       "      <td>0.734190</td>\n",
       "      <td>0.882023</td>\n",
       "      <td>6713.024543</td>\n",
       "      <td>0.772040</td>\n",
       "      <td>666.356400</td>\n",
       "      <td>16167.704929</td>\n",
       "      <td>7.123414</td>\n",
       "      <td>3.677219</td>\n",
       "      <td>0.18672</td>\n",
       "    </tr>\n",
       "    <tr>\n",
       "      <th>std</th>\n",
       "      <td>20207.403759</td>\n",
       "      <td>184.479754</td>\n",
       "      <td>27129.567957</td>\n",
       "      <td>51.047964</td>\n",
       "      <td>0.140257</td>\n",
       "      <td>0.196185</td>\n",
       "      <td>7892.885860</td>\n",
       "      <td>0.254754</td>\n",
       "      <td>1536.933052</td>\n",
       "      <td>26735.494357</td>\n",
       "      <td>4.847253</td>\n",
       "      <td>2.410449</td>\n",
       "      <td>0.38969</td>\n",
       "    </tr>\n",
       "    <tr>\n",
       "      <th>min</th>\n",
       "      <td>1.000000</td>\n",
       "      <td>0.000000</td>\n",
       "      <td>0.000000</td>\n",
       "      <td>0.000000</td>\n",
       "      <td>0.000000</td>\n",
       "      <td>0.000000</td>\n",
       "      <td>0.000000</td>\n",
       "      <td>0.000000</td>\n",
       "      <td>0.000000</td>\n",
       "      <td>0.000000</td>\n",
       "      <td>0.000000</td>\n",
       "      <td>0.000000</td>\n",
       "      <td>0.00000</td>\n",
       "    </tr>\n",
       "    <tr>\n",
       "      <th>25%</th>\n",
       "      <td>17500.750000</td>\n",
       "      <td>14.000000</td>\n",
       "      <td>10535.000000</td>\n",
       "      <td>10.000000</td>\n",
       "      <td>0.697795</td>\n",
       "      <td>0.853511</td>\n",
       "      <td>1406.000000</td>\n",
       "      <td>0.641269</td>\n",
       "      <td>0.000000</td>\n",
       "      <td>0.000000</td>\n",
       "      <td>3.300000</td>\n",
       "      <td>2.000000</td>\n",
       "      <td>0.00000</td>\n",
       "    </tr>\n",
       "    <tr>\n",
       "      <th>50%</th>\n",
       "      <td>35000.500000</td>\n",
       "      <td>47.000000</td>\n",
       "      <td>21995.500000</td>\n",
       "      <td>24.000000</td>\n",
       "      <td>0.749759</td>\n",
       "      <td>0.970368</td>\n",
       "      <td>3967.000000</td>\n",
       "      <td>0.862417</td>\n",
       "      <td>0.000000</td>\n",
       "      <td>2573.500000</td>\n",
       "      <td>6.000000</td>\n",
       "      <td>3.000000</td>\n",
       "      <td>0.00000</td>\n",
       "    </tr>\n",
       "    <tr>\n",
       "      <th>75%</th>\n",
       "      <td>52500.250000</td>\n",
       "      <td>131.000000</td>\n",
       "      <td>36525.750000</td>\n",
       "      <td>50.000000</td>\n",
       "      <td>0.801275</td>\n",
       "      <td>0.997199</td>\n",
       "      <td>9239.000000</td>\n",
       "      <td>0.981982</td>\n",
       "      <td>626.000000</td>\n",
       "      <td>24536.250000</td>\n",
       "      <td>9.700000</td>\n",
       "      <td>4.700000</td>\n",
       "      <td>0.00000</td>\n",
       "    </tr>\n",
       "    <tr>\n",
       "      <th>max</th>\n",
       "      <td>70000.000000</td>\n",
       "      <td>5929.000000</td>\n",
       "      <td>638172.000000</td>\n",
       "      <td>1007.000000</td>\n",
       "      <td>1.000000</td>\n",
       "      <td>1.000000</td>\n",
       "      <td>244444.000000</td>\n",
       "      <td>1.000000</td>\n",
       "      <td>33701.000000</td>\n",
       "      <td>504086.000000</td>\n",
       "      <td>30.700000</td>\n",
       "      <td>35.700000</td>\n",
       "      <td>1.00000</td>\n",
       "    </tr>\n",
       "  </tbody>\n",
       "</table>\n",
       "</div>"
      ],
      "text/plain": [
       "                 ID            X1             X2            X3            X4  \\\n",
       "count  70000.000000  70000.000000   70000.000000  70000.000000  70000.000000   \n",
       "mean   35000.500000    110.687600   27789.886000     40.142529      0.734190   \n",
       "std    20207.403759    184.479754   27129.567957     51.047964      0.140257   \n",
       "min        1.000000      0.000000       0.000000      0.000000      0.000000   \n",
       "25%    17500.750000     14.000000   10535.000000     10.000000      0.697795   \n",
       "50%    35000.500000     47.000000   21995.500000     24.000000      0.749759   \n",
       "75%    52500.250000    131.000000   36525.750000     50.000000      0.801275   \n",
       "max    70000.000000   5929.000000  638172.000000   1007.000000      1.000000   \n",
       "\n",
       "                 X5             X6            X7            X8             X9  \\\n",
       "count  70000.000000   70000.000000  70000.000000  70000.000000   70000.000000   \n",
       "mean       0.882023    6713.024543      0.772040    666.356400   16167.704929   \n",
       "std        0.196185    7892.885860      0.254754   1536.933052   26735.494357   \n",
       "min        0.000000       0.000000      0.000000      0.000000       0.000000   \n",
       "25%        0.853511    1406.000000      0.641269      0.000000       0.000000   \n",
       "50%        0.970368    3967.000000      0.862417      0.000000    2573.500000   \n",
       "75%        0.997199    9239.000000      0.981982    626.000000   24536.250000   \n",
       "max        1.000000  244444.000000      1.000000  33701.000000  504086.000000   \n",
       "\n",
       "                X10           X11          X12  \n",
       "count  70000.000000  70000.000000  50000.00000  \n",
       "mean       7.123414      3.677219      0.18672  \n",
       "std        4.847253      2.410449      0.38969  \n",
       "min        0.000000      0.000000      0.00000  \n",
       "25%        3.300000      2.000000      0.00000  \n",
       "50%        6.000000      3.000000      0.00000  \n",
       "75%        9.700000      4.700000      0.00000  \n",
       "max       30.700000     35.700000      1.00000  "
      ]
     },
     "execution_count": 3,
     "metadata": {},
     "output_type": "execute_result"
    }
   ],
   "source": [
    "df.describe()"
   ]
  },
  {
   "cell_type": "code",
   "execution_count": 4,
   "metadata": {
    "collapsed": true
   },
   "outputs": [],
   "source": [
    "train = df[0:49999]\n",
    "test = df[50000:]"
   ]
  },
  {
   "cell_type": "code",
   "execution_count": 5,
   "metadata": {},
   "outputs": [
    {
     "data": {
      "text/plain": [
       "0.0    40663\n",
       "1.0     9336\n",
       "Name: X12, dtype: int64"
      ]
     },
     "execution_count": 5,
     "metadata": {},
     "output_type": "execute_result"
    }
   ],
   "source": [
    "train['X12'].value_counts()"
   ]
  },
  {
   "cell_type": "code",
   "execution_count": 6,
   "metadata": {},
   "outputs": [
    {
     "data": {
      "text/plain": [
       "0.0    0.813276\n",
       "1.0    0.186724\n",
       "Name: X12, dtype: float64"
      ]
     },
     "execution_count": 6,
     "metadata": {},
     "output_type": "execute_result"
    }
   ],
   "source": [
    "train['X12'].value_counts(normalize=True)"
   ]
  },
  {
   "cell_type": "code",
   "execution_count": 7,
   "metadata": {
    "collapsed": true
   },
   "outputs": [],
   "source": [
    "X = train.drop(['X12','ID'],1)\n",
    "y = train['X12']"
   ]
  },
  {
   "cell_type": "markdown",
   "metadata": {},
   "source": [
    "# MODELING"
   ]
  },
  {
   "cell_type": "code",
   "execution_count": 8,
   "metadata": {
    "collapsed": true
   },
   "outputs": [],
   "source": [
    "def modeling(x,y):\n",
    "    #############################################\n",
    "    #Linear Model\n",
    "    from sklearn.linear_model import LogisticRegression\n",
    "    \n",
    "    #Ensemble\n",
    "    from sklearn.ensemble import RandomForestClassifier,AdaBoostClassifier,BaggingClassifier\n",
    "    \n",
    "    #SVM\n",
    "    from sklearn.svm import LinearSVC\n",
    "    \n",
    "    #Tree\n",
    "    from sklearn.tree import DecisionTreeClassifier\n",
    "    \n",
    "    #Bayesian\n",
    "    from sklearn.naive_bayes import MultinomialNB\n",
    "\n",
    "    #K-Nearest Neighbor\n",
    "    from sklearn.neighbors import KNeighborsClassifier\n",
    "    #Cross Val Score\n",
    "    from sklearn.model_selection import cross_val_score\n",
    "    \n",
    "    #Discriminant Analysis\n",
    "    from sklearn.discriminant_analysis import LinearDiscriminantAnalysis,QuadraticDiscriminantAnalysis\n",
    "    \n",
    "    #################################################\n",
    "    \n",
    "    #linear Model\n",
    "    logreg = LogisticRegression(random_state = 123)\n",
    "    \n",
    "    #Ensemble\n",
    "    randomforest = RandomForestClassifier(random_state = 123)\n",
    "    ada = AdaBoostClassifier()\n",
    "    bagging = BaggingClassifier()\n",
    "\n",
    "    #svm\n",
    "    linearSVM = LinearSVC( random_state = 123)\n",
    "    \n",
    "    #tree\n",
    "    decisiontree = DecisionTreeClassifier(random_state = 123)\n",
    "    \n",
    "    #bayes\n",
    "    bnb = MultinomialNB()\n",
    "    \n",
    "    #KNN\n",
    "    knn = KNeighborsClassifier()\n",
    "    \n",
    "    #Discriminant Analysis\n",
    "    lda = LinearDiscriminantAnalysis()\n",
    "    qda = QuadraticDiscriminantAnalysis()\n",
    "    \n",
    "    \n",
    "    classifiers = [logreg,randomforest,bagging,ada, linearSVM, decisiontree,bnb,knn,qda,lda]\n",
    "    for clf, label in zip(classifiers, \n",
    "                      ['Logistic Regression', \n",
    "                       'Random Forest',\n",
    "                       'Bagging',\n",
    "                       'AdaBoost',\n",
    "                       'Linear SVM', \n",
    "                       'Decision Trees',\n",
    "                       'Naive Bayes',\n",
    "                      'K-Nearest Neighbors',\n",
    "                      'Linear Discriminant Analysis',\n",
    "                      'Quadratic Discriminant Analysis']):\n",
    "\n",
    "        scores = cross_val_score(clf, x, y, cv=10, scoring='accuracy')\n",
    "        print(\"Accuracy: %0.4f (+/- %0.4f) [%s]\" \n",
    "              % (scores.mean(), scores.std(), label))"
   ]
  },
  {
   "cell_type": "code",
   "execution_count": 9,
   "metadata": {},
   "outputs": [
    {
     "data": {
      "image/png": "[encoded data removed]",
      "text/plain": [
       "<matplotlib.figure.Figure at 0x1fdc4ae4198>"
      ]
     },
     "metadata": {},
     "output_type": "display_data"
    }
   ],
   "source": [
    "plt.figure(figsize=[10,10])\n",
    "plt.hist(train[train['X12']==0]['X1'], bins=50,alpha=0.5, label='x',normed='True')\n",
    "plt.hist(train[train['X12']==1]['X1'],bins =50,alpha=0.5, label='y',normed='True')\n",
    "plt.legend(loc='upper right')\n",
    "plt.show()"
   ]
  },
  {
   "cell_type": "code",
   "execution_count": 10,
   "metadata": {},
   "outputs": [
    {
     "data": {
      "image/png": "[encoded data removed]",
      "text/plain": [
       "<matplotlib.figure.Figure at 0x1fdcac227f0>"
      ]
     },
     "metadata": {},
     "output_type": "display_data"
    }
   ],
   "source": [
    "plt.figure(figsize=[10,10])\n",
    "plt.hist(train[train['X12']==0]['X2'], bins=50,alpha=0.5, label='x',normed='True')\n",
    "plt.hist(train[train['X12']==1]['X2'], bins =50,alpha=0.5, label='y',normed='True')\n",
    "plt.legend(loc='upper right')\n",
    "plt.show()"
   ]
  },
  {
   "cell_type": "code",
   "execution_count": 11,
   "metadata": {},
   "outputs": [
    {
     "data": {
      "image/png": "[encoded data removed]",
      "text/plain": [
       "<matplotlib.figure.Figure at 0x1fdca9fec18>"
      ]
     },
     "metadata": {},
     "output_type": "display_data"
    }
   ],
   "source": [
    "plt.figure(figsize=[10,10])\n",
    "plt.hist(train[train['X12']==0]['X3'], bins=50,alpha=0.5, label='x',normed='True')\n",
    "plt.hist(train[train['X12']==1]['X3'],bins =50,alpha=0.5, label='y',normed='True')\n",
    "plt.legend(loc='upper right')\n",
    "plt.show()"
   ]
  },
  {
   "cell_type": "code",
   "execution_count": 12,
   "metadata": {},
   "outputs": [
    {
     "data": {
      "image/png": "[encoded data removed]",
      "text/plain": [
       "<matplotlib.figure.Figure at 0x1fdc9c8cf28>"
      ]
     },
     "metadata": {},
     "output_type": "display_data"
    }
   ],
   "source": [
    "plt.figure(figsize=[10,10])\n",
    "plt.hist(train[train['X12']==0]['X4'], bins=50,alpha=0.5, label='x',normed='True')\n",
    "plt.hist(train[train['X12']==1]['X4'],bins =50,alpha=0.5, label='y',normed='True')\n",
    "plt.legend(loc='upper right')\n",
    "plt.show()"
   ]
  },
  {
   "cell_type": "code",
   "execution_count": 13,
   "metadata": {},
   "outputs": [
    {
     "data": {
      "image/png": "[encoded data removed]",
      "text/plain": [
       "<matplotlib.figure.Figure at 0x1fdca668160>"
      ]
     },
     "metadata": {},
     "output_type": "display_data"
    }
   ],
   "source": [
    "plt.figure(figsize=[10,10])\n",
    "plt.hist(train[train['X12']==0]['X5'], bins=50,alpha=0.5, label='x',normed='True')\n",
    "plt.hist(train[train['X12']==1]['X5'],bins =50,alpha=0.5, label='y',normed='True')\n",
    "plt.legend(loc='upper right')\n",
    "plt.show()"
   ]
  },
  {
   "cell_type": "code",
   "execution_count": 14,
   "metadata": {},
   "outputs": [
    {
     "data": {
      "image/png": "[encoded data removed]",
      "text/plain": [
       "<matplotlib.figure.Figure at 0x1fdc893c4a8>"
      ]
     },
     "metadata": {},
     "output_type": "display_data"
    }
   ],
   "source": [
    "plt.figure(figsize=[10,10])\n",
    "plt.hist(train[train['X12']==0]['X6'], bins=50,alpha=0.5, label='x',normed='True')\n",
    "plt.hist(train[train['X12']==1]['X6'],bins =50,alpha=0.5, label='y',normed='True')\n",
    "plt.legend(loc='upper right')\n",
    "plt.show()"
   ]
  },
  {
   "cell_type": "code",
   "execution_count": 15,
   "metadata": {},
   "outputs": [
    {
     "data": {
      "image/png": "[encoded data removed]",
      "text/plain": [
       "<matplotlib.figure.Figure at 0x1fdc8933358>"
      ]
     },
     "metadata": {},
     "output_type": "display_data"
    }
   ],
   "source": [
    "plt.figure(figsize=[10,10])\n",
    "plt.hist(train[train['X12']==0]['X7'], bins=50,alpha=0.5, label='x',normed='True')\n",
    "plt.hist(train[train['X12']==1]['X7'],bins =50,alpha=0.5, label='y',normed='True')\n",
    "plt.legend(loc='upper right')\n",
    "plt.show()"
   ]
  },
  {
   "cell_type": "code",
   "execution_count": 16,
   "metadata": {},
   "outputs": [
    {
     "data": {
      "image/png": "[encoded data removed]",
      "text/plain": [
       "<matplotlib.figure.Figure at 0x1fdca03ca58>"
      ]
     },
     "metadata": {},
     "output_type": "display_data"
    }
   ],
   "source": [
    "plt.figure(figsize=[10,10])\n",
    "plt.hist(train[train['X12']==0]['X8'], bins=50,alpha=0.5, label='x',normed='True')\n",
    "plt.hist(train[train['X12']==1]['X8'],bins =50,alpha=0.5, label='y',normed='True')\n",
    "plt.legend(loc='upper right')\n",
    "plt.show()"
   ]
  },
  {
   "cell_type": "code",
   "execution_count": 17,
   "metadata": {},
   "outputs": [
    {
     "data": {
      "image/png": "[encoded data removed]",
      "text/plain": [
       "<matplotlib.figure.Figure at 0x1fdcb37aac8>"
      ]
     },
     "metadata": {},
     "output_type": "display_data"
    }
   ],
   "source": [
    "plt.figure(figsize=[10,10])\n",
    "plt.hist(train[train['X12']==0]['X9'], bins=50,alpha=0.5, label='x',normed='True')\n",
    "plt.hist(train[train['X12']==1]['X9'],bins =50,alpha=0.5, label='y',normed='True')\n",
    "plt.legend(loc='upper right')\n",
    "plt.show()"
   ]
  },
  {
   "cell_type": "code",
   "execution_count": 18,
   "metadata": {},
   "outputs": [
    {
     "data": {
      "image/png": "[encoded data removed]",
      "text/plain": [
       "<matplotlib.figure.Figure at 0x1fdc9644ac8>"
      ]
     },
     "metadata": {},
     "output_type": "display_data"
    }
   ],
   "source": [
    "plt.figure(figsize=[10,10])\n",
    "plt.hist(train[train['X12']==0]['X10'], bins=50,alpha=0.5, label='x',normed='True')\n",
    "plt.hist(train[train['X12']==1]['X10'],bins =50,alpha=0.5, label='y',normed='True')\n",
    "plt.legend(loc='upper right')\n",
    "plt.show()"
   ]
  },
  {
   "cell_type": "code",
   "execution_count": 19,
   "metadata": {},
   "outputs": [
    {
     "data": {
      "image/png": "[encoded data removed]",
      "text/plain": [
       "<matplotlib.figure.Figure at 0x1fdc9f83780>"
      ]
     },
     "metadata": {},
     "output_type": "display_data"
    }
   ],
   "source": [
    "plt.figure(figsize=[10,10])\n",
    "plt.hist(train[train['X12']==0]['X11'], bins=50,alpha=0.5, label='Kategori 0',normed='True')\n",
    "plt.hist(train[train['X12']==1]['X11'],bins =50,alpha=0.5, label='Kategori 1',normed='True')\n",
    "plt.legend(loc='upper right',fontsize=20)\n",
    "plt.show()"
   ]
  },
  {
   "cell_type": "code",
   "execution_count": 20,
   "metadata": {},
   "outputs": [
    {
     "name": "stdout",
     "output_type": "stream",
     "text": [
      "Accuracy: 0.8133 (+/- 0.0001) [Logistic Regression]\n",
      "Accuracy: 0.8133 (+/- 0.0001) [Random Forest]\n",
      "Accuracy: 0.8133 (+/- 0.0001) [Bagging]\n",
      "Accuracy: 0.8133 (+/- 0.0001) [AdaBoost]\n",
      "Accuracy: 0.8133 (+/- 0.0001) [Linear SVM]\n",
      "Accuracy: 0.8133 (+/- 0.0001) [Decision Trees]\n",
      "Accuracy: 0.8133 (+/- 0.0001) [Naive Bayes]\n",
      "Accuracy: 0.7753 (+/- 0.0223) [K-Nearest Neighbors]\n",
      "Accuracy: 0.8133 (+/- 0.0001) [Linear Discriminant Analysis]\n",
      "Accuracy: 0.8133 (+/- 0.0001) [Quadratic Discriminant Analysis]\n"
     ]
    }
   ],
   "source": [
    "modeling(pd.DataFrame(X['X10']),y)"
   ]
  },
  {
   "cell_type": "code",
   "execution_count": 21,
   "metadata": {},
   "outputs": [
    {
     "name": "stdout",
     "output_type": "stream",
     "text": [
      "Accuracy: 0.8133 (+/- 0.0001) [Logistic Regression]\n",
      "Accuracy: 0.8131 (+/- 0.0003) [Random Forest]\n",
      "Accuracy: 0.8131 (+/- 0.0003) [Bagging]\n",
      "Accuracy: 0.8132 (+/- 0.0001) [AdaBoost]\n",
      "Accuracy: 0.8133 (+/- 0.0001) [Linear SVM]\n",
      "Accuracy: 0.8132 (+/- 0.0001) [Decision Trees]\n",
      "Accuracy: 0.8133 (+/- 0.0001) [Naive Bayes]\n",
      "Accuracy: 0.7677 (+/- 0.0384) [K-Nearest Neighbors]\n",
      "Accuracy: 0.8133 (+/- 0.0001) [Linear Discriminant Analysis]\n",
      "Accuracy: 0.8133 (+/- 0.0001) [Quadratic Discriminant Analysis]\n"
     ]
    }
   ],
   "source": [
    "modeling(pd.DataFrame(X['X11']),y)"
   ]
  },
  {
   "cell_type": "code",
   "execution_count": 22,
   "metadata": {},
   "outputs": [
    {
     "data": {
      "text/plain": [
       "RandomForestClassifier(bootstrap=True, class_weight=None, criterion='gini',\n",
       "            max_depth=None, max_features='auto', max_leaf_nodes=None,\n",
       "            min_impurity_decrease=0.0, min_impurity_split=None,\n",
       "            min_samples_leaf=1, min_samples_split=2,\n",
       "            min_weight_fraction_leaf=0.0, n_estimators=10, n_jobs=1,\n",
       "            oob_score=False, random_state=123, verbose=0, warm_start=False)"
      ]
     },
     "execution_count": 22,
     "metadata": {},
     "output_type": "execute_result"
    }
   ],
   "source": [
    "from sklearn.model_selection import train_test_split\n",
    "x_train,x_test,y_train,y_test = train_test_split(X,y,test_size=0.3,random_state=123)\n",
    "\n",
    "from sklearn.ensemble import RandomForestClassifier\n",
    "rfc = RandomForestClassifier(random_state=123)\n",
    "rfc.fit(x_train,y_train)"
   ]
  },
  {
   "cell_type": "code",
   "execution_count": 23,
   "metadata": {},
   "outputs": [
    {
     "data": {
      "text/plain": [
       "array([[11656,   453],\n",
       "       [ 2425,   466]], dtype=int64)"
      ]
     },
     "execution_count": 23,
     "metadata": {},
     "output_type": "execute_result"
    }
   ],
   "source": [
    "y_pred = rfc.predict(x_test)\n",
    "\n",
    "from sklearn.metrics import confusion_matrix\n",
    "confusion_matrix(y_test,y_pred)"
   ]
  },
  {
   "cell_type": "code",
   "execution_count": 24,
   "metadata": {
    "collapsed": true
   },
   "outputs": [],
   "source": [
    "def yuk_eval(y_true,y_pred):\n",
    "    from sklearn.metrics import confusion_matrix\n",
    "    sens = confusion_matrix(y_true,y_pred)[0,0]/(confusion_matrix(y_true,y_pred)[0,0]+confusion_matrix(y_true,y_pred)[0,1])\n",
    "    spes = confusion_matrix(y_true,y_pred)[1,1]/(confusion_matrix(y_true,y_pred)[1,0]+confusion_matrix(y_true,y_pred)[1,1])\n",
    "    akurasi = (confusion_matrix(y_true,y_pred)[0,0]+confusion_matrix(y_true,y_pred)[1,1])/confusion_matrix(y_true,y_pred).sum()\n",
    "    eval_baru = (sens*spes*akurasi)**(1/3)\n",
    "    print('Sensitivitas : %.4f'%sens)\n",
    "    print('Spesifisitas : %.4f'%spes)\n",
    "    print('Akurasi : %.4f'%akurasi)\n",
    "    print('Evaluasi GM : %.4f'%eval_baru)"
   ]
  },
  {
   "cell_type": "code",
   "execution_count": 25,
   "metadata": {},
   "outputs": [
    {
     "name": "stdout",
     "output_type": "stream",
     "text": [
      "Sensitivitas : 0.9626\n",
      "Spesifisitas : 0.1612\n",
      "Akurasi : 0.8081\n",
      "Evaluasi GM : 0.5005\n"
     ]
    }
   ],
   "source": [
    "yuk_eval(y_test,y_pred)"
   ]
  },
  {
   "cell_type": "code",
   "execution_count": null,
   "metadata": {
    "collapsed": true
   },
   "outputs": [],
   "source": []
  },
  {
   "cell_type": "code",
   "execution_count": 26,
   "metadata": {
    "collapsed": true
   },
   "outputs": [],
   "source": [
    "from sklearn.metrics import recall_score\n",
    "sens = recall_score(y_test,y_pred)"
   ]
  },
  {
   "cell_type": "code",
   "execution_count": 27,
   "metadata": {},
   "outputs": [
    {
     "data": {
      "text/plain": [
       "array([  0.96258981,  12.86534216])"
      ]
     },
     "execution_count": 27,
     "metadata": {},
     "output_type": "execute_result"
    }
   ],
   "source": [
    "confusion_matrix(y_test,y_pred)[0,0]/(confusion_matrix(y_test,y_pred)[0]+confusion_matrix(y_test,y_pred)[0,1])"
   ]
  },
  {
   "cell_type": "code",
   "execution_count": 28,
   "metadata": {},
   "outputs": [
    {
     "data": {
      "text/plain": [
       "11656"
      ]
     },
     "execution_count": 28,
     "metadata": {},
     "output_type": "execute_result"
    }
   ],
   "source": [
    "confusion_matrix(y_test,y_pred)[0,0]"
   ]
  },
  {
   "cell_type": "code",
   "execution_count": 29,
   "metadata": {},
   "outputs": [
    {
     "data": {
      "text/plain": [
       "array([12109,   906], dtype=int64)"
      ]
     },
     "execution_count": 29,
     "metadata": {},
     "output_type": "execute_result"
    }
   ],
   "source": [
    "(confusion_matrix(y_test,y_pred)[0]+confusion_matrix(y_test,y_pred)[0,1])"
   ]
  },
  {
   "cell_type": "code",
   "execution_count": 30,
   "metadata": {},
   "outputs": [
    {
     "data": {
      "text/plain": [
       "11656"
      ]
     },
     "execution_count": 30,
     "metadata": {},
     "output_type": "execute_result"
    }
   ],
   "source": [
    "confusion_matrix(y_test,y_pred)[0,0]"
   ]
  },
  {
   "cell_type": "code",
   "execution_count": 31,
   "metadata": {},
   "outputs": [
    {
     "data": {
      "text/plain": [
       "12122"
      ]
     },
     "execution_count": 31,
     "metadata": {},
     "output_type": "execute_result"
    }
   ],
   "source": [
    "(confusion_matrix(y_test,y_pred)[0,0]+confusion_matrix(y_test,y_pred)[1,1])"
   ]
  },
  {
   "cell_type": "code",
   "execution_count": 32,
   "metadata": {},
   "outputs": [
    {
     "data": {
      "text/plain": [
       "15000"
      ]
     },
     "execution_count": 32,
     "metadata": {},
     "output_type": "execute_result"
    }
   ],
   "source": [
    "confusion_matrix(y_test,y_pred).sum()"
   ]
  },
  {
   "cell_type": "code",
   "execution_count": 33,
   "metadata": {},
   "outputs": [
    {
     "data": {
      "text/plain": [
       "(49999,)"
      ]
     },
     "execution_count": 33,
     "metadata": {},
     "output_type": "execute_result"
    }
   ],
   "source": [
    "y.shape"
   ]
  },
  {
   "cell_type": "markdown",
   "metadata": {},
   "source": [
    "# RANDOM UNDER SAMPLER"
   ]
  },
  {
   "cell_type": "code",
   "execution_count": 34,
   "metadata": {
    "collapsed": true
   },
   "outputs": [],
   "source": [
    "rus = RandomUnderSampler()"
   ]
  },
  {
   "cell_type": "code",
   "execution_count": 35,
   "metadata": {
    "collapsed": true
   },
   "outputs": [],
   "source": [
    "from sklearn.model_selection import train_test_split\n",
    "x_train,x_test,y_train,y_test = train_test_split(X,y,test_size=0.3,random_state=123,stratify=y)\n"
   ]
  },
  {
   "cell_type": "code",
   "execution_count": 36,
   "metadata": {
    "collapsed": true
   },
   "outputs": [],
   "source": [
    "X_sampled,y_sampled = rus.fit_sample(x_train,y_train)\n"
   ]
  },
  {
   "cell_type": "code",
   "execution_count": 37,
   "metadata": {},
   "outputs": [
    {
     "data": {
      "text/plain": [
       "(13070,)"
      ]
     },
     "execution_count": 37,
     "metadata": {},
     "output_type": "execute_result"
    }
   ],
   "source": [
    "y_sampled.shape"
   ]
  },
  {
   "cell_type": "code",
   "execution_count": 38,
   "metadata": {},
   "outputs": [
    {
     "data": {
      "text/plain": [
       "RandomForestClassifier(bootstrap=True, class_weight=None, criterion='gini',\n",
       "            max_depth=None, max_features='auto', max_leaf_nodes=None,\n",
       "            min_impurity_decrease=0.0, min_impurity_split=None,\n",
       "            min_samples_leaf=1, min_samples_split=2,\n",
       "            min_weight_fraction_leaf=0.0, n_estimators=10, n_jobs=1,\n",
       "            oob_score=False, random_state=123, verbose=0, warm_start=False)"
      ]
     },
     "execution_count": 38,
     "metadata": {},
     "output_type": "execute_result"
    }
   ],
   "source": [
    "\n",
    "from sklearn.ensemble import RandomForestClassifier\n",
    "rfc = RandomForestClassifier(random_state=123)\n",
    "rfc.fit(X_sampled,y_sampled)"
   ]
  },
  {
   "cell_type": "code",
   "execution_count": 39,
   "metadata": {},
   "outputs": [
    {
     "data": {
      "text/plain": [
       "array([[8912, 3287],\n",
       "       [1151, 1650]], dtype=int64)"
      ]
     },
     "execution_count": 39,
     "metadata": {},
     "output_type": "execute_result"
    }
   ],
   "source": [
    "y_pred = rfc.predict(x_test)\n",
    "\n",
    "from sklearn.metrics import confusion_matrix\n",
    "confusion_matrix(y_test,y_pred)"
   ]
  },
  {
   "cell_type": "markdown",
   "metadata": {},
   "source": [
    "# IMPROVE!!!!!"
   ]
  },
  {
   "cell_type": "code",
   "execution_count": 40,
   "metadata": {},
   "outputs": [
    {
     "name": "stdout",
     "output_type": "stream",
     "text": [
      "Sensitivitas : 0.7306\n",
      "Spesifisitas : 0.5891\n",
      "Akurasi : 0.7041\n",
      "Evaluasi GM : 0.6717\n"
     ]
    }
   ],
   "source": [
    "yuk_eval(y_test,y_pred)"
   ]
  },
  {
   "cell_type": "code",
   "execution_count": 41,
   "metadata": {},
   "outputs": [
    {
     "data": {
      "text/plain": [
       "array([[6481,   54],\n",
       "       [ 176, 6359]], dtype=int64)"
      ]
     },
     "execution_count": 41,
     "metadata": {},
     "output_type": "execute_result"
    }
   ],
   "source": [
    "y_pred = rfc.predict(X_sampled)\n",
    "\n",
    "from sklearn.metrics import confusion_matrix\n",
    "confusion_matrix(y_sampled,y_pred)"
   ]
  },
  {
   "cell_type": "markdown",
   "metadata": {},
   "source": [
    "# SMOTE"
   ]
  },
  {
   "cell_type": "code",
   "execution_count": 42,
   "metadata": {
    "collapsed": true
   },
   "outputs": [],
   "source": [
    "from sklearn.model_selection import train_test_split\n",
    "x_train,x_test,y_train,y_test = train_test_split(X,y,test_size=0.3,random_state=123,stratify = y)\n"
   ]
  },
  {
   "cell_type": "code",
   "execution_count": 43,
   "metadata": {
    "collapsed": true
   },
   "outputs": [],
   "source": [
    "smote = SMOTE()"
   ]
  },
  {
   "cell_type": "code",
   "execution_count": 44,
   "metadata": {
    "collapsed": true
   },
   "outputs": [],
   "source": [
    "X_sampled,y_sampled=smote.fit_sample(x_train,y_train)"
   ]
  },
  {
   "cell_type": "code",
   "execution_count": 45,
   "metadata": {},
   "outputs": [
    {
     "data": {
      "text/plain": [
       "(56928,)"
      ]
     },
     "execution_count": 45,
     "metadata": {},
     "output_type": "execute_result"
    }
   ],
   "source": [
    "y_sampled.shape"
   ]
  },
  {
   "cell_type": "code",
   "execution_count": 46,
   "metadata": {},
   "outputs": [
    {
     "data": {
      "text/plain": [
       "RandomForestClassifier(bootstrap=True, class_weight=None, criterion='gini',\n",
       "            max_depth=None, max_features='auto', max_leaf_nodes=None,\n",
       "            min_impurity_decrease=0.0, min_impurity_split=None,\n",
       "            min_samples_leaf=1, min_samples_split=2,\n",
       "            min_weight_fraction_leaf=0.0, n_estimators=10, n_jobs=1,\n",
       "            oob_score=False, random_state=123, verbose=0, warm_start=False)"
      ]
     },
     "execution_count": 46,
     "metadata": {},
     "output_type": "execute_result"
    }
   ],
   "source": [
    "from sklearn.ensemble import RandomForestClassifier\n",
    "rfc = RandomForestClassifier(random_state=123)\n",
    "rfc.fit(X_sampled,y_sampled)"
   ]
  },
  {
   "cell_type": "code",
   "execution_count": 47,
   "metadata": {},
   "outputs": [
    {
     "data": {
      "text/plain": [
       "array([[10733,  1466],\n",
       "       [ 1803,   998]], dtype=int64)"
      ]
     },
     "execution_count": 47,
     "metadata": {},
     "output_type": "execute_result"
    }
   ],
   "source": [
    "y_pred = rfc.predict(x_test)\n",
    "\n",
    "from sklearn.metrics import confusion_matrix\n",
    "confusion_matrix(y_test,y_pred)"
   ]
  },
  {
   "cell_type": "code",
   "execution_count": 48,
   "metadata": {},
   "outputs": [
    {
     "name": "stdout",
     "output_type": "stream",
     "text": [
      "Sensitivitas : 0.8798\n",
      "Spesifisitas : 0.3563\n",
      "Akurasi : 0.7821\n",
      "Evaluasi GM : 0.6259\n"
     ]
    }
   ],
   "source": [
    "yuk_eval(y_test,y_pred)"
   ]
  },
  {
   "cell_type": "code",
   "execution_count": 49,
   "metadata": {},
   "outputs": [
    {
     "data": {
      "text/plain": [
       "array([[28391,    73],\n",
       "       [  241,  6294]], dtype=int64)"
      ]
     },
     "execution_count": 49,
     "metadata": {},
     "output_type": "execute_result"
    }
   ],
   "source": [
    "y_pred = rfc.predict(x_train)\n",
    "\n",
    "from sklearn.metrics import confusion_matrix\n",
    "confusion_matrix(y_train,y_pred)"
   ]
  },
  {
   "cell_type": "markdown",
   "metadata": {
    "collapsed": true
   },
   "source": [
    "# RUS using K FOLD "
   ]
  },
  {
   "cell_type": "code",
   "execution_count": 50,
   "metadata": {},
   "outputs": [
    {
     "name": "stdout",
     "output_type": "stream",
     "text": [
      "[[8349 3850]\n",
      " [ 891 1910]]\n",
      "Sensitivitas : 0.6844\n",
      "Spesifisitas : 0.6819\n",
      "Akurasi : 0.6839\n",
      "Evaluasi GM : 0.6834\n",
      "[[8610 3589]\n",
      " [ 965 1836]]\n",
      "Sensitivitas : 0.7058\n",
      "Spesifisitas : 0.6555\n",
      "Akurasi : 0.6964\n",
      "Evaluasi GM : 0.6855\n"
     ]
    }
   ],
   "source": [
    "from sklearn.linear_model import LogisticRegression\n",
    "from sklearn.linear_model import RidgeClassifier\n",
    "\n",
    "\n",
    "logreg = LogisticRegression()\n",
    "ridge = RidgeClassifier()\n",
    "X_sampled,y_sampled = rus.fit_sample(x_train,y_train)\n",
    "\n",
    "###### LOGREG\n",
    "logreg.fit(X_sampled,y_sampled)\n",
    "y_pred = logreg.predict(x_test)\n",
    "\n",
    "\n",
    "print(confusion_matrix(y_test,y_pred))\n",
    "yuk_eval(y_test,y_pred)\n",
    "\n",
    "###### RIDGE\n",
    "ridge.fit(X_sampled,y_sampled)\n",
    "y_pred = ridge.predict(x_test)\n",
    "\n",
    "\n",
    "print(confusion_matrix(y_test,y_pred))\n",
    "yuk_eval(y_test,y_pred)"
   ]
  },
  {
   "cell_type": "code",
   "execution_count": 51,
   "metadata": {},
   "outputs": [
    {
     "name": "stdout",
     "output_type": "stream",
     "text": [
      "[[2282 9917]\n",
      " [ 685 2116]]\n",
      "Sensitivitas : 0.1871\n",
      "Spesifisitas : 0.7554\n",
      "Akurasi : 0.2932\n",
      "Evaluasi GM : 0.3460\n"
     ]
    }
   ],
   "source": [
    "from sklearn.svm import LinearSVC\n",
    "svc = LinearSVC()\n",
    "\n",
    "svc.fit(X_sampled,y_sampled)\n",
    "y_pred = svc.predict(x_test)\n",
    "\n",
    "\n",
    "print(confusion_matrix(y_test,y_pred))\n",
    "yuk_eval(y_test,y_pred)"
   ]
  },
  {
   "cell_type": "code",
   "execution_count": 52,
   "metadata": {},
   "outputs": [
    {
     "name": "stdout",
     "output_type": "stream",
     "text": [
      "[[12195     4]\n",
      " [ 2800     1]]\n",
      "Sensitivitas : 0.9997\n",
      "Spesifisitas : 0.0004\n",
      "Akurasi : 0.8131\n",
      "Evaluasi GM : 0.0662\n"
     ]
    }
   ],
   "source": [
    "from sklearn.svm import SVC\n",
    "svc = SVC()\n",
    "\n",
    "svc.fit(X_sampled,y_sampled)\n",
    "y_pred = svc.predict(x_test)\n",
    "\n",
    "\n",
    "print(confusion_matrix(y_test,y_pred))\n",
    "yuk_eval(y_test,y_pred)"
   ]
  },
  {
   "cell_type": "code",
   "execution_count": 53,
   "metadata": {},
   "outputs": [
    {
     "name": "stdout",
     "output_type": "stream",
     "text": [
      "[[  595 11604]\n",
      " [   58  2743]]\n",
      "Sensitivitas : 0.0488\n",
      "Spesifisitas : 0.9793\n",
      "Akurasi : 0.2225\n",
      "Evaluasi GM : 0.2199\n"
     ]
    }
   ],
   "source": [
    "from sklearn.neural_network import MLPClassifier\n",
    "nn = MLPClassifier()\n",
    "\n",
    "nn.fit(X_sampled,y_sampled)\n",
    "y_pred = nn.predict(x_test)\n",
    "\n",
    "\n",
    "print(confusion_matrix(y_test,y_pred))\n",
    "yuk_eval(y_test,y_pred)"
   ]
  },
  {
   "cell_type": "markdown",
   "metadata": {},
   "source": [
    "# Grid Search"
   ]
  },
  {
   "cell_type": "code",
   "execution_count": 72,
   "metadata": {
    "collapsed": true
   },
   "outputs": [],
   "source": [
    "params = {'n_estimators':[10,100,200,500],\n",
    "          'max_depth':list(range(5,10))\n",
    "         }"
   ]
  },
  {
   "cell_type": "code",
   "execution_count": 73,
   "metadata": {
    "collapsed": true
   },
   "outputs": [],
   "source": [
    "from sklearn.model_selection import GridSearchCV\n"
   ]
  },
  {
   "cell_type": "code",
   "execution_count": 74,
   "metadata": {
    "collapsed": true
   },
   "outputs": [],
   "source": [
    "def yuk_eval(y_true,y_pred):\n",
    "    from sklearn.metrics import confusion_matrix\n",
    "    sens = confusion_matrix(y_true,y_pred)[0,0]/(confusion_matrix(y_true,y_pred)[0,0]+confusion_matrix(y_true,y_pred)[0,1])\n",
    "    spes = confusion_matrix(y_true,y_pred)[1,1]/(confusion_matrix(y_true,y_pred)[1,0]+confusion_matrix(y_true,y_pred)[1,1])\n",
    "    akurasi = (confusion_matrix(y_true,y_pred)[0,0]+confusion_matrix(y_true,y_pred)[1,1])/confusion_matrix(y_true,y_pred).sum()\n",
    "    eval_baru = (sens*spes*akurasi)**(1/3)\n",
    "    return(eval_baru)"
   ]
  },
  {
   "cell_type": "code",
   "execution_count": 75,
   "metadata": {
    "collapsed": true
   },
   "outputs": [],
   "source": [
    "from sklearn.metrics import make_scorer\n",
    "geometry = make_scorer(yuk_eval)"
   ]
  },
  {
   "cell_type": "code",
   "execution_count": 76,
   "metadata": {
    "collapsed": true
   },
   "outputs": [],
   "source": [
    "gscv = GridSearchCV(rfc,param_grid=params,scoring=geometry,cv=10)"
   ]
  },
  {
   "cell_type": "code",
   "execution_count": 77,
   "metadata": {},
   "outputs": [
    {
     "data": {
      "text/plain": [
       "GridSearchCV(cv=10, error_score='raise',\n",
       "       estimator=RandomForestClassifier(bootstrap=True, class_weight=None, criterion='gini',\n",
       "            max_depth=None, max_features='auto', max_leaf_nodes=None,\n",
       "            min_impurity_decrease=0.0, min_impurity_split=None,\n",
       "            min_samples_leaf=1, min_samples_split=2,\n",
       "            min_weight_fraction_leaf=0.0, n_estimators=10, n_jobs=1,\n",
       "            oob_score=False, random_state=123, verbose=0, warm_start=False),\n",
       "       fit_params=None, iid=True, n_jobs=1,\n",
       "       param_grid={'n_estimators': [10, 100, 200, 500], 'max_depth': [5, 6, 7, 8, 9]},\n",
       "       pre_dispatch='2*n_jobs', refit=True, return_train_score='warn',\n",
       "       scoring=make_scorer(yuk_eval), verbose=0)"
      ]
     },
     "execution_count": 77,
     "metadata": {},
     "output_type": "execute_result"
    }
   ],
   "source": [
    "gscv.fit(X_sampled,y_sampled)"
   ]
  },
  {
   "cell_type": "code",
   "execution_count": 78,
   "metadata": {},
   "outputs": [
    {
     "data": {
      "text/plain": [
       "0.70380367331852201"
      ]
     },
     "execution_count": 78,
     "metadata": {},
     "output_type": "execute_result"
    }
   ],
   "source": [
    "gscv.best_score_"
   ]
  },
  {
   "cell_type": "code",
   "execution_count": 79,
   "metadata": {},
   "outputs": [
    {
     "data": {
      "text/plain": [
       "{'max_depth': 9, 'n_estimators': 500}"
      ]
     },
     "execution_count": 79,
     "metadata": {},
     "output_type": "execute_result"
    }
   ],
   "source": [
    "gscv.best_params_"
   ]
  },
  {
   "cell_type": "code",
   "execution_count": 83,
   "metadata": {},
   "outputs": [
    {
     "data": {
      "text/plain": [
       "0.69445961013159208"
      ]
     },
     "execution_count": 83,
     "metadata": {},
     "output_type": "execute_result"
    }
   ],
   "source": [
    "from sklearn.ensemble import RandomForestClassifier\n",
    "rfc = RandomForestClassifier(random_state=123,n_estimators=1000,max_depth=9)\n",
    "rfc.fit(X_sampled,y_sampled)\n",
    "\n",
    "y_pred = rfc.predict(x_test)\n",
    "\n",
    "from sklearn.metrics import confusion_matrix\n",
    "confusion_matrix(y_test,y_pred)\n",
    "yuk_eval(y_test,y_pred)"
   ]
  },
  {
   "cell_type": "markdown",
   "metadata": {},
   "source": [
    "# WILL USING ROC CURRVE"
   ]
  },
  {
   "cell_type": "code",
   "execution_count": 108,
   "metadata": {
    "collapsed": true
   },
   "outputs": [],
   "source": [
    "from sklearn.ensemble import RandomForestClassifier\n",
    "rfc = RandomForestClassifier(random_state=123,n_estimators=1000,max_depth=9)\n",
    "rfc.fit(X_sampled,y_sampled)\n",
    "\n",
    "\n"
   ]
  },
  {
   "cell_type": "code",
   "execution_count": 177,
   "metadata": {},
   "outputs": [],
   "source": [
    "y_pred = rfc.predict_proba(x_test)\n",
    "y_pred[:,1][y_pred[:,1]>0.55]=1\n",
    "y_pred[:,1][y_pred[:,1]<=0.55]=0"
   ]
  },
  {
   "cell_type": "code",
   "execution_count": 178,
   "metadata": {},
   "outputs": [],
   "source": [
    "y_pred[:,1]\n",
    "y_pred=y_pred[:,1]"
   ]
  },
  {
   "cell_type": "code",
   "execution_count": 179,
   "metadata": {},
   "outputs": [
    {
     "name": "stdout",
     "output_type": "stream",
     "text": [
      "[[9267 2932]\n",
      " [1059 1742]]\n"
     ]
    },
    {
     "data": {
      "text/plain": [
       "0.70253645036864043"
      ]
     },
     "execution_count": 179,
     "metadata": {},
     "output_type": "execute_result"
    }
   ],
   "source": [
    "\n",
    "from sklearn.metrics import confusion_matrix\n",
    "print(confusion_matrix(y_test,y_pred))\n",
    "yuk_eval(y_test,y_pred)"
   ]
  },
  {
   "cell_type": "code",
   "execution_count": 182,
   "metadata": {},
   "outputs": [],
   "source": [
    "from sklearn.metrics import roc_curve\n",
    "fpr,tpr,_=roc_curve(y_test,y_pred)"
   ]
  },
  {
   "cell_type": "code",
   "execution_count": 183,
   "metadata": {},
   "outputs": [
    {
     "data": {
      "image/png": "[encoded data removed]",
      "text/plain": [
       "<matplotlib.figure.Figure at 0x1fdca666cc0>"
      ]
     },
     "metadata": {},
     "output_type": "display_data"
    }
   ],
   "source": [
    "plt.figure()\n",
    "lw = 2\n",
    "plt.plot(fpr, tpr, color='darkorange',\n",
    "         lw=lw)\n",
    "plt.plot([0, 1], [0, 1], color='navy', lw=lw, linestyle='--')\n",
    "plt.xlim([0.0, 1.0])\n",
    "plt.ylim([0.0, 1.05])\n",
    "plt.xlabel('False Positive Rate')\n",
    "plt.ylabel('True Positive Rate')\n",
    "plt.title('Receiver operating characteristic example')\n",
    "plt.legend(loc=\"lower right\")\n",
    "plt.show()"
   ]
  },
  {
   "cell_type": "markdown",
   "metadata": {},
   "source": [
    "# GRID SEARCH RIDGE"
   ]
  },
  {
   "cell_type": "code",
   "execution_count": 187,
   "metadata": {
    "collapsed": true
   },
   "outputs": [],
   "source": [
    "from sklearn.linear_model import RidgeClassifier\n",
    "rc = RidgeClassifier()"
   ]
  },
  {
   "cell_type": "code",
   "execution_count": 192,
   "metadata": {
    "collapsed": true
   },
   "outputs": [],
   "source": [
    "params ={'alpha':0.1*np.arange(1,21)}"
   ]
  },
  {
   "cell_type": "code",
   "execution_count": null,
   "metadata": {
    "collapsed": true
   },
   "outputs": [],
   "source": []
  },
  {
   "cell_type": "code",
   "execution_count": 193,
   "metadata": {},
   "outputs": [
    {
     "data": {
      "text/plain": [
       "GridSearchCV(cv=10, error_score='raise',\n",
       "       estimator=RidgeClassifier(alpha=1.0, class_weight=None, copy_X=True, fit_intercept=True,\n",
       "        max_iter=None, normalize=False, random_state=None, solver='auto',\n",
       "        tol=0.001),\n",
       "       fit_params=None, iid=True, n_jobs=1,\n",
       "       param_grid={'alpha': array([ 0.1,  0.2,  0.3,  0.4,  0.5,  0.6,  0.7,  0.8,  0.9,  1. ,  1.1,\n",
       "        1.2,  1.3,  1.4,  1.5,  1.6,  1.7,  1.8,  1.9,  2. ])},\n",
       "       pre_dispatch='2*n_jobs', refit=True, return_train_score='warn',\n",
       "       scoring=make_scorer(yuk_eval), verbose=0)"
      ]
     },
     "execution_count": 193,
     "metadata": {},
     "output_type": "execute_result"
    }
   ],
   "source": [
    "gscv = GridSearchCV(rc,param_grid=params,scoring=geometry,cv=10)\n",
    "gscv.fit(X_sampled,y_sampled)"
   ]
  },
  {
   "cell_type": "code",
   "execution_count": 194,
   "metadata": {},
   "outputs": [
    {
     "data": {
      "text/plain": [
       "0.68940534157633826"
      ]
     },
     "execution_count": 194,
     "metadata": {},
     "output_type": "execute_result"
    }
   ],
   "source": [
    "gscv.best_score_"
   ]
  },
  {
   "cell_type": "code",
   "execution_count": 195,
   "metadata": {},
   "outputs": [
    {
     "data": {
      "text/plain": [
       "{'alpha': 0.80000000000000004}"
      ]
     },
     "execution_count": 195,
     "metadata": {},
     "output_type": "execute_result"
    }
   ],
   "source": [
    "gscv.best_params_"
   ]
  },
  {
   "cell_type": "code",
   "execution_count": null,
   "metadata": {
    "collapsed": true
   },
   "outputs": [],
   "source": []
  }
 ],
 "metadata": {
  "kernelspec": {
   "display_name": "Python 3",
   "language": "python",
   "name": "python3"
  },
  "language_info": {
   "codemirror_mode": {
    "name": "ipython",
    "version": 3
   },
   "file_extension": ".py",
   "mimetype": "text/x-python",
   "name": "python",
   "nbconvert_exporter": "python",
   "pygments_lexer": "ipython3",
   "version": "3.6.3"
  }
 },
 "nbformat": 4,
 "nbformat_minor": 2
}
